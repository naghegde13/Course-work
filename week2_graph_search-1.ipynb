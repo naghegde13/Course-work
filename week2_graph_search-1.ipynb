{
 "cells": [
  {
   "cell_type": "markdown",
   "id": "99cbbf4b-bf7d-42b1-93e2-a81397b25caa",
   "metadata": {},
   "source": [
    "# Week 2: Graph Search"
   ]
  },
  {
   "cell_type": "markdown",
   "id": "6799a1f2-35ea-480c-8d7e-47a468483f97",
   "metadata": {},
   "source": [
    "In this exercise you'll examine a heuristic approach towards solving for a path on a given graph. The provided heuristic is based on the 'best-first' method. \n",
    "\n",
    "Assumptions:\n",
    "1. The agent remembers the path it has taken\n",
    "2. The agent can only know the distance to the child nodes from its current node and as such does not know (or remember) the map layout as defined in **graph**\n",
    "\n",
    "Tasks:\n",
    "1. Examine the code and create a corresponding flowchart.\n",
    "2. Run the agent for various combinations of start and stop nodes. Note the total distance traveled\n",
    "3. Based on (2), you should observe at least 2 ways in which the heuristic can be improved. What are they?\n",
    "4. Make a revised flowchart with the improvements. (For submission)\n",
    "5. Revise the heuristic function in the python notebook with the improvements. Give it a new name. Run the agent with the new heuristic several times to make sure it works. Add comments to the new heuristic function. (For submission)"
   ]
  },
  {
   "cell_type": "code",
   "execution_count": 55,
   "id": "f223de59-0897-4c96-8ee7-9520a2b86612",
   "metadata": {},
   "outputs": [],
   "source": [
    "import heapq"
   ]
  },
  {
   "cell_type": "code",
   "execution_count": 56,
   "id": "48782a20-3447-4a03-8f3a-392129eb479f",
   "metadata": {},
   "outputs": [],
   "source": [
    "# define a graph with unidirectional distances\n",
    "\n",
    "graph = {\n",
    "            'A':{'B':5, 'C':2},\n",
    "            'B':{'C':3, 'D':1},\n",
    "            'C':{'E':3},\n",
    "            'D':{'F':2},\n",
    "            'E':{'F':1, 'D':2, 'B':2, 'A':2},\n",
    "            'F':{'A':3, 'B':1, 'C':1}\n",
    "        }"
   ]
  },
  {
   "cell_type": "code",
   "execution_count": 57,
   "id": "ce0321d5-1030-45c3-a7cb-76ea39bc8477",
   "metadata": {},
   "outputs": [],
   "source": [
    "nodes = list(graph.keys())"
   ]
  },
  {
   "cell_type": "code",
   "execution_count": 58,
   "id": "e22c269a-d581-40c4-bf14-a603acda9211",
   "metadata": {},
   "outputs": [
    {
     "name": "stdout",
     "output_type": "stream",
     "text": [
      "A\n",
      "- E\n",
      "- F\n",
      "B\n",
      "- A\n",
      "- E\n",
      "- F\n",
      "C\n",
      "- A\n",
      "- B\n",
      "- F\n",
      "D\n",
      "- B\n",
      "- E\n",
      "E\n",
      "- C\n",
      "F\n",
      "- D\n",
      "- E\n"
     ]
    }
   ],
   "source": [
    "# convert graph to a bi-directional graph, ie for example, making distance(A, B) = distance(B, A)\n",
    "\n",
    "for nodex in nodes:\n",
    "    print (nodex)\n",
    "    for nodey in nodes:\n",
    "        if nodey != nodex and nodex in graph[nodey] and nodey not in graph[nodex]:\n",
    "            print ('-', nodey)\n",
    "            graph[nodex][nodey] = graph[nodey][nodex]"
   ]
  },
  {
   "cell_type": "code",
   "execution_count": 59,
   "id": "e0dde644-d1f0-4e23-8dd6-caba1680f7ba",
   "metadata": {},
   "outputs": [
    {
     "data": {
      "text/plain": [
       "{'A': {'B': 5, 'C': 2, 'E': 2, 'F': 3},\n",
       " 'B': {'C': 3, 'D': 1, 'A': 5, 'E': 2, 'F': 1},\n",
       " 'C': {'E': 3, 'A': 2, 'B': 3, 'F': 1},\n",
       " 'D': {'F': 2, 'B': 1, 'E': 2},\n",
       " 'E': {'F': 1, 'D': 2, 'B': 2, 'A': 2, 'C': 3},\n",
       " 'F': {'A': 3, 'B': 1, 'C': 1, 'D': 2, 'E': 1}}"
      ]
     },
     "execution_count": 59,
     "metadata": {},
     "output_type": "execute_result"
    }
   ],
   "source": [
    "# examine graph\n",
    "\n",
    "graph"
   ]
  },
  {
   "cell_type": "code",
   "execution_count": 53,
   "id": "64eb35bf-3245-42d4-a777-19f6375dc72c",
   "metadata": {},
   "outputs": [],
   "source": [
    "def get_a_path_best_first(graph, start, stop, path = []):\n",
    "    \n",
    "    if start == stop:\n",
    "        path = path + [start]\n",
    "        dist = sum([graph[path[i]][path[i+1]] for i, node in enumerate(path[:-1])])\n",
    "        \n",
    "        print ('\\n')\n",
    "        print ('>>>> Found a path: ', path)\n",
    "        print ('>>>> Total distance traveled:', dist)\n",
    "        return path\n",
    "            \n",
    "    path = path + [start]\n",
    "    print ('\\n')\n",
    "    print ('current path:', path)\n",
    "    \n",
    "    child_nodes             = graph[start]    \n",
    "    print ('child nodes at ', start, ': ', child_nodes)\n",
    "    \n",
    "    child_nodes_not_visited = [x for x in child_nodes if (x not in path)]\n",
    "    print ('child nodes not visited:', child_nodes_not_visited)\n",
    "    \n",
    "    nearest_nodes = [nodex for nodex in child_nodes_not_visited if graph[start][nodex]==min([graph[start][node] for node in child_nodes_not_visited])]\n",
    "    \n",
    "    if nearest_nodes:\n",
    "        random.shuffle(nearest_nodes)\n",
    "        nearest_node_randomized = nearest_nodes[0]\n",
    "        \n",
    "        distance_step = graph[start][nearest_node_randomized]\n",
    "        print ('selected nearest node:', nearest_node_randomized[0], ' step distance:', distance_step)\n",
    "        \n",
    "        newpath = get_a_path_best_first(graph, nearest_node_randomized, stop, path)\n",
    "\n",
    "        if newpath:\n",
    "            return newpath        \n",
    "            \n",
    "    else:\n",
    "        return None\n",
    "    \n",
    "    "
   ]
  },
  {
   "cell_type": "code",
   "execution_count": 54,
   "id": "beb3def0-3e0d-484c-9191-edadd6987aca",
   "metadata": {},
   "outputs": [
    {
     "name": "stdout",
     "output_type": "stream",
     "text": [
      "\n",
      "\n",
      "current path: ['A']\n",
      "child nodes at  A :  {'B': 5, 'C': 2, 'E': 2, 'F': 3}\n",
      "child nodes not visited: ['B', 'C', 'E', 'F']\n",
      "selected nearest node: C  step distance: 2\n",
      "\n",
      "\n",
      "current path: ['A', 'C']\n",
      "child nodes at  C :  {'E': 3, 'A': 2, 'B': 3, 'F': 1}\n",
      "child nodes not visited: ['E', 'B', 'F']\n",
      "selected nearest node: F  step distance: 1\n",
      "\n",
      "\n",
      "current path: ['A', 'C', 'F']\n",
      "child nodes at  F :  {'A': 3, 'B': 1, 'C': 1, 'D': 2, 'E': 1}\n",
      "child nodes not visited: ['B', 'D', 'E']\n",
      "selected nearest node: B  step distance: 1\n",
      "\n",
      "\n",
      ">>>> Found a path:  ['A', 'C', 'F', 'B']\n",
      ">>>> Total distance traveled: 4\n"
     ]
    },
    {
     "data": {
      "text/plain": [
       "['A', 'C', 'F', 'B']"
      ]
     },
     "execution_count": 54,
     "metadata": {},
     "output_type": "execute_result"
    }
   ],
   "source": [
    "# run agent\n",
    "\n",
    "start_node = 'A'\n",
    "stop_node  = 'B'\n",
    "\n",
    "get_a_path_best_first(graph, start_node, stop_node)"
   ]
  },
  {
   "cell_type": "code",
   "execution_count": null,
   "id": "d1c2bae6-606f-40a1-9eb6-a4cafdf1a3d7",
   "metadata": {},
   "outputs": [],
   "source": []
  },
  {
   "cell_type": "code",
   "execution_count": null,
   "id": "c6f13a27",
   "metadata": {},
   "outputs": [],
   "source": []
  }
 ],
 "metadata": {
  "kernelspec": {
   "display_name": "Python 3 (ipykernel)",
   "language": "python",
   "name": "python3"
  },
  "language_info": {
   "codemirror_mode": {
    "name": "ipython",
    "version": 3
   },
   "file_extension": ".py",
   "mimetype": "text/x-python",
   "name": "python",
   "nbconvert_exporter": "python",
   "pygments_lexer": "ipython3",
   "version": "3.11.5"
  }
 },
 "nbformat": 4,
 "nbformat_minor": 5
}
